{
  "nbformat": 4,
  "nbformat_minor": 0,
  "metadata": {
    "colab": {
      "name": "Copy of 1_PythonBasic.ipynb",
      "provenance": [],
      "collapsed_sections": []
    },
    "kernelspec": {
      "name": "python3",
      "display_name": "Python 3"
    }
  },
  "cells": [
    {
      "cell_type": "markdown",
      "metadata": {
        "id": "GHZVyjhVBMSl"
      },
      "source": [
        "# Python Introduction ~~~~~ MegaMachine\n",
        "\n",
        "Source: https://docs.python.org/3.6/tutorial/index.html\n",
        "\n",
        "Download: https://www.python.org/downloads/release/python-368/\n",
        "\n",
        "\n",
        "\n"
      ]
    },
    {
      "cell_type": "code",
      "metadata": {
        "id": "2lEh4jdwBmJc",
        "colab": {
          "base_uri": "https://localhost:8080/",
          "height": 34
        },
        "outputId": "1b3c2c18-745e-4f70-ee71-4e8ccb77288d"
      },
      "source": [
        "!python --version"
      ],
      "execution_count": null,
      "outputs": [
        {
          "output_type": "stream",
          "text": [
            "Python 3.6.9\n"
          ],
          "name": "stdout"
        }
      ]
    },
    {
      "cell_type": "code",
      "metadata": {
        "id": "nvm7FDGFy2p3"
      },
      "source": [
        "#This is a comment"
      ],
      "execution_count": null,
      "outputs": []
    },
    {
      "cell_type": "code",
      "metadata": {
        "id": "blGBkg-lxYiU",
        "outputId": "f3b2693a-37ad-489a-c58c-a1e322573493",
        "colab": {
          "base_uri": "https://localhost:8080/"
        }
      },
      "source": [
        "help(print)\n",
        "help(input)"
      ],
      "execution_count": 2,
      "outputs": [
        {
          "output_type": "stream",
          "text": [
            "Help on built-in function print in module builtins:\n",
            "\n",
            "print(...)\n",
            "    print(value, ..., sep=' ', end='\\n', file=sys.stdout, flush=False)\n",
            "    \n",
            "    Prints the values to a stream, or to sys.stdout by default.\n",
            "    Optional keyword arguments:\n",
            "    file:  a file-like object (stream); defaults to the current sys.stdout.\n",
            "    sep:   string inserted between values, default a space.\n",
            "    end:   string appended after the last value, default a newline.\n",
            "    flush: whether to forcibly flush the stream.\n",
            "\n",
            "Help on method raw_input in module ipykernel.kernelbase:\n",
            "\n",
            "raw_input(prompt='') method of google.colab._kernel.Kernel instance\n",
            "    Forward raw_input to frontends\n",
            "    \n",
            "    Raises\n",
            "    ------\n",
            "    StdinNotImplentedError if active frontend doesn't support stdin.\n",
            "\n"
          ],
          "name": "stdout"
        }
      ]
    },
    {
      "cell_type": "markdown",
      "metadata": {
        "id": "PPj8pamBzgjs"
      },
      "source": [
        "#Help Function ---"
      ]
    },
    {
      "cell_type": "code",
      "metadata": {
        "id": "CNFOjJjJzTtx",
        "colab": {
          "base_uri": "https://localhost:8080/",
          "height": 493
        },
        "outputId": "dea204b6-62c5-4ce7-872b-75fa7fdb0fcd"
      },
      "source": [
        "help(help)"
      ],
      "execution_count": null,
      "outputs": [
        {
          "output_type": "stream",
          "text": [
            "Help on _Helper in module _sitebuiltins object:\n",
            "\n",
            "class _Helper(builtins.object)\n",
            " |  Define the builtin 'help'.\n",
            " |  \n",
            " |  This is a wrapper around pydoc.help that provides a helpful message\n",
            " |  when 'help' is typed at the Python interactive prompt.\n",
            " |  \n",
            " |  Calling help() at the Python prompt starts an interactive help session.\n",
            " |  Calling help(thing) prints help for the python object 'thing'.\n",
            " |  \n",
            " |  Methods defined here:\n",
            " |  \n",
            " |  __call__(self, *args, **kwds)\n",
            " |      Call self as a function.\n",
            " |  \n",
            " |  __repr__(self)\n",
            " |      Return repr(self).\n",
            " |  \n",
            " |  ----------------------------------------------------------------------\n",
            " |  Data descriptors defined here:\n",
            " |  \n",
            " |  __dict__\n",
            " |      dictionary for instance variables (if defined)\n",
            " |  \n",
            " |  __weakref__\n",
            " |      list of weak references to the object (if defined)\n",
            "\n"
          ],
          "name": "stdout"
        }
      ]
    },
    {
      "cell_type": "markdown",
      "metadata": {
        "id": "qJ2kjnPNzpzR"
      },
      "source": [
        "for **Example**  ---"
      ]
    },
    {
      "cell_type": "code",
      "metadata": {
        "id": "YHWeOdQmzxAh",
        "colab": {
          "base_uri": "https://localhost:8080/",
          "height": 1000
        },
        "outputId": "dbf70f2d-df70-4439-8026-aeb6a1d97a69"
      },
      "source": [
        "help(float)"
      ],
      "execution_count": null,
      "outputs": [
        {
          "output_type": "stream",
          "text": [
            "Help on class float in module builtins:\n",
            "\n",
            "class float(object)\n",
            " |  float(x) -> floating point number\n",
            " |  \n",
            " |  Convert a string or number to a floating point number, if possible.\n",
            " |  \n",
            " |  Methods defined here:\n",
            " |  \n",
            " |  __abs__(self, /)\n",
            " |      abs(self)\n",
            " |  \n",
            " |  __add__(self, value, /)\n",
            " |      Return self+value.\n",
            " |  \n",
            " |  __bool__(self, /)\n",
            " |      self != 0\n",
            " |  \n",
            " |  __divmod__(self, value, /)\n",
            " |      Return divmod(self, value).\n",
            " |  \n",
            " |  __eq__(self, value, /)\n",
            " |      Return self==value.\n",
            " |  \n",
            " |  __float__(self, /)\n",
            " |      float(self)\n",
            " |  \n",
            " |  __floordiv__(self, value, /)\n",
            " |      Return self//value.\n",
            " |  \n",
            " |  __format__(...)\n",
            " |      float.__format__(format_spec) -> string\n",
            " |      \n",
            " |      Formats the float according to format_spec.\n",
            " |  \n",
            " |  __ge__(self, value, /)\n",
            " |      Return self>=value.\n",
            " |  \n",
            " |  __getattribute__(self, name, /)\n",
            " |      Return getattr(self, name).\n",
            " |  \n",
            " |  __getformat__(...) from builtins.type\n",
            " |      float.__getformat__(typestr) -> string\n",
            " |      \n",
            " |      You probably don't want to use this function.  It exists mainly to be\n",
            " |      used in Python's test suite.\n",
            " |      \n",
            " |      typestr must be 'double' or 'float'.  This function returns whichever of\n",
            " |      'unknown', 'IEEE, big-endian' or 'IEEE, little-endian' best describes the\n",
            " |      format of floating point numbers used by the C type named by typestr.\n",
            " |  \n",
            " |  __getnewargs__(...)\n",
            " |  \n",
            " |  __gt__(self, value, /)\n",
            " |      Return self>value.\n",
            " |  \n",
            " |  __hash__(self, /)\n",
            " |      Return hash(self).\n",
            " |  \n",
            " |  __int__(self, /)\n",
            " |      int(self)\n",
            " |  \n",
            " |  __le__(self, value, /)\n",
            " |      Return self<=value.\n",
            " |  \n",
            " |  __lt__(self, value, /)\n",
            " |      Return self<value.\n",
            " |  \n",
            " |  __mod__(self, value, /)\n",
            " |      Return self%value.\n",
            " |  \n",
            " |  __mul__(self, value, /)\n",
            " |      Return self*value.\n",
            " |  \n",
            " |  __ne__(self, value, /)\n",
            " |      Return self!=value.\n",
            " |  \n",
            " |  __neg__(self, /)\n",
            " |      -self\n",
            " |  \n",
            " |  __new__(*args, **kwargs) from builtins.type\n",
            " |      Create and return a new object.  See help(type) for accurate signature.\n",
            " |  \n",
            " |  __pos__(self, /)\n",
            " |      +self\n",
            " |  \n",
            " |  __pow__(self, value, mod=None, /)\n",
            " |      Return pow(self, value, mod).\n",
            " |  \n",
            " |  __radd__(self, value, /)\n",
            " |      Return value+self.\n",
            " |  \n",
            " |  __rdivmod__(self, value, /)\n",
            " |      Return divmod(value, self).\n",
            " |  \n",
            " |  __repr__(self, /)\n",
            " |      Return repr(self).\n",
            " |  \n",
            " |  __rfloordiv__(self, value, /)\n",
            " |      Return value//self.\n",
            " |  \n",
            " |  __rmod__(self, value, /)\n",
            " |      Return value%self.\n",
            " |  \n",
            " |  __rmul__(self, value, /)\n",
            " |      Return value*self.\n",
            " |  \n",
            " |  __round__(...)\n",
            " |      Return the Integral closest to x, rounding half toward even.\n",
            " |      When an argument is passed, work like built-in round(x, ndigits).\n",
            " |  \n",
            " |  __rpow__(self, value, mod=None, /)\n",
            " |      Return pow(value, self, mod).\n",
            " |  \n",
            " |  __rsub__(self, value, /)\n",
            " |      Return value-self.\n",
            " |  \n",
            " |  __rtruediv__(self, value, /)\n",
            " |      Return value/self.\n",
            " |  \n",
            " |  __setformat__(...) from builtins.type\n",
            " |      float.__setformat__(typestr, fmt) -> None\n",
            " |      \n",
            " |      You probably don't want to use this function.  It exists mainly to be\n",
            " |      used in Python's test suite.\n",
            " |      \n",
            " |      typestr must be 'double' or 'float'.  fmt must be one of 'unknown',\n",
            " |      'IEEE, big-endian' or 'IEEE, little-endian', and in addition can only be\n",
            " |      one of the latter two if it appears to match the underlying C reality.\n",
            " |      \n",
            " |      Override the automatic determination of C-level floating point type.\n",
            " |      This affects how floats are converted to and from binary strings.\n",
            " |  \n",
            " |  __str__(self, /)\n",
            " |      Return str(self).\n",
            " |  \n",
            " |  __sub__(self, value, /)\n",
            " |      Return self-value.\n",
            " |  \n",
            " |  __truediv__(self, value, /)\n",
            " |      Return self/value.\n",
            " |  \n",
            " |  __trunc__(...)\n",
            " |      Return the Integral closest to x between 0 and x.\n",
            " |  \n",
            " |  as_integer_ratio(...)\n",
            " |      float.as_integer_ratio() -> (int, int)\n",
            " |      \n",
            " |      Return a pair of integers, whose ratio is exactly equal to the original\n",
            " |      float and with a positive denominator.\n",
            " |      Raise OverflowError on infinities and a ValueError on NaNs.\n",
            " |      \n",
            " |      >>> (10.0).as_integer_ratio()\n",
            " |      (10, 1)\n",
            " |      >>> (0.0).as_integer_ratio()\n",
            " |      (0, 1)\n",
            " |      >>> (-.25).as_integer_ratio()\n",
            " |      (-1, 4)\n",
            " |  \n",
            " |  conjugate(...)\n",
            " |      Return self, the complex conjugate of any float.\n",
            " |  \n",
            " |  fromhex(...) from builtins.type\n",
            " |      float.fromhex(string) -> float\n",
            " |      \n",
            " |      Create a floating-point number from a hexadecimal string.\n",
            " |      >>> float.fromhex('0x1.ffffp10')\n",
            " |      2047.984375\n",
            " |      >>> float.fromhex('-0x1p-1074')\n",
            " |      -5e-324\n",
            " |  \n",
            " |  hex(...)\n",
            " |      float.hex() -> string\n",
            " |      \n",
            " |      Return a hexadecimal representation of a floating-point number.\n",
            " |      >>> (-0.1).hex()\n",
            " |      '-0x1.999999999999ap-4'\n",
            " |      >>> 3.14159.hex()\n",
            " |      '0x1.921f9f01b866ep+1'\n",
            " |  \n",
            " |  is_integer(...)\n",
            " |      Return True if the float is an integer.\n",
            " |  \n",
            " |  ----------------------------------------------------------------------\n",
            " |  Data descriptors defined here:\n",
            " |  \n",
            " |  imag\n",
            " |      the imaginary part of a complex number\n",
            " |  \n",
            " |  real\n",
            " |      the real part of a complex number\n",
            "\n"
          ],
          "name": "stdout"
        }
      ]
    },
    {
      "cell_type": "markdown",
      "metadata": {
        "id": "00H3GxFJ0FAf"
      },
      "source": [
        "#Print function ---"
      ]
    },
    {
      "cell_type": "code",
      "metadata": {
        "id": "fYclZItC0VQ8",
        "colab": {
          "base_uri": "https://localhost:8080/",
          "height": 153
        },
        "outputId": "18c85201-df35-4196-c8c5-555f6283c643"
      },
      "source": [
        "print(print.__doc__)"
      ],
      "execution_count": null,
      "outputs": [
        {
          "output_type": "stream",
          "text": [
            "print(value, ..., sep=' ', end='\\n', file=sys.stdout, flush=False)\n",
            "\n",
            "Prints the values to a stream, or to sys.stdout by default.\n",
            "Optional keyword arguments:\n",
            "file:  a file-like object (stream); defaults to the current sys.stdout.\n",
            "sep:   string inserted between values, default a space.\n",
            "end:   string appended after the last value, default a newline.\n",
            "flush: whether to forcibly flush the stream.\n"
          ],
          "name": "stdout"
        }
      ]
    },
    {
      "cell_type": "code",
      "metadata": {
        "id": "K2cgAsm-0Dsi",
        "colab": {
          "base_uri": "https://localhost:8080/",
          "height": 34
        },
        "outputId": "db4968c1-3ffd-42a8-ebdf-6a113ff9f548"
      },
      "source": [
        "print('Sum of',2,'and',3,'is',2+3)"
      ],
      "execution_count": null,
      "outputs": [
        {
          "output_type": "stream",
          "text": [
            "Sum of 2 and 3 is 5\n"
          ],
          "name": "stdout"
        }
      ]
    },
    {
      "cell_type": "code",
      "metadata": {
        "id": "Q1f85ibh0gzq",
        "colab": {
          "base_uri": "https://localhost:8080/",
          "height": 119
        },
        "outputId": "ecd81846-c99a-437c-ed12-fcf526bc9c5b"
      },
      "source": [
        "print('''\n",
        "This          ----- Line 1     |  A\n",
        "is            ----- Line 2     |  unique \n",
        "multiLine     ----- Line 3     |  way\n",
        "printing.     ----- Line 4     |  to print.\n",
        "''')"
      ],
      "execution_count": null,
      "outputs": [
        {
          "output_type": "stream",
          "text": [
            "\n",
            "This          ----- Line 1     |  A\n",
            "is            ----- Line 2     |  unique \n",
            "multiLine     ----- Line 3     |  way\n",
            "printing.     ----- Line 4     |  to print.\n",
            "\n"
          ],
          "name": "stdout"
        }
      ]
    },
    {
      "cell_type": "code",
      "metadata": {
        "id": "d5gnQ90A1iwp",
        "colab": {
          "base_uri": "https://localhost:8080/",
          "height": 51
        },
        "outputId": "6af42ca3-378a-4c82-ef8a-dd93c0d12882"
      },
      "source": [
        "# Default~ sep:   string inserted between values, default a space.\n",
        "print('Sep','is','placed','in','place','of','these','commas') \n",
        "print('Sep','is','placed','in','place','of','these','commas',sep='@')"
      ],
      "execution_count": null,
      "outputs": [
        {
          "output_type": "stream",
          "text": [
            "Sep is placed in place of these commas\n",
            "Sep@is@placed@in@place@of@these@commas\n"
          ],
          "name": "stdout"
        }
      ]
    },
    {
      "cell_type": "code",
      "metadata": {
        "id": "93Y5Qz_42TjG",
        "colab": {
          "base_uri": "https://localhost:8080/",
          "height": 85
        },
        "outputId": "d607e329-aff2-4e12-f572-d1cd8d3893eb"
      },
      "source": [
        "# Default~ end:   string appended after the last value, default a newline.\n",
        "print('This is line 1.')\n",
        "print('This is line 2.')\n",
        "print('This is line 3.',end=' ')\n",
        "print('This is line 4.')\n",
        "print('This is line 5. End will be placed here -->',end='end')"
      ],
      "execution_count": null,
      "outputs": [
        {
          "output_type": "stream",
          "text": [
            "This is line 1.\n",
            "This is line 2.\n",
            "This is line 3. This is line 4.\n",
            "This is line 5. End will be placed here -->end"
          ],
          "name": "stdout"
        }
      ]
    },
    {
      "cell_type": "markdown",
      "metadata": {
        "id": "d94HeaLJ4CyI"
      },
      "source": [
        "#Variable Assignment"
      ]
    },
    {
      "cell_type": "code",
      "metadata": {
        "id": "YZuAgiA236Vc",
        "colab": {
          "base_uri": "https://localhost:8080/",
          "height": 34
        },
        "outputId": "8a9fd9d3-c5fe-4648-e956-000b315a8937"
      },
      "source": [
        "# Single Variable Assignment\n",
        "a = 3\n",
        "print('The value of a is',a)"
      ],
      "execution_count": null,
      "outputs": [
        {
          "output_type": "stream",
          "text": [
            "The value of a is 3\n"
          ],
          "name": "stdout"
        }
      ]
    },
    {
      "cell_type": "code",
      "metadata": {
        "id": "s0dqBO2O4T_6",
        "colab": {
          "base_uri": "https://localhost:8080/",
          "height": 34
        },
        "outputId": "0ffa1af4-cb33-4b22-db7c-cdcc07810d49"
      },
      "source": [
        "# Multiple Variable Assignment\n",
        "b,c,d = 5.0,-6,'MegaMachine'\n",
        "print('The value of b and c is',b,'and',c,'assigned by',d)"
      ],
      "execution_count": null,
      "outputs": [
        {
          "output_type": "stream",
          "text": [
            "The value of b and c is 5.0 and -6 assigned by MegaMachine\n"
          ],
          "name": "stdout"
        }
      ]
    },
    {
      "cell_type": "code",
      "metadata": {
        "id": "7v4XTHPa5CIt",
        "colab": {
          "base_uri": "https://localhost:8080/",
          "height": 119
        },
        "outputId": "ba8c8d1b-849a-4a07-d2d1-99ca8b4e4451"
      },
      "source": [
        "# Using function in print\n",
        "print('''\n",
        "The value of a is {} and type of a is {}\n",
        "The value of b is {} and type of b is {}\n",
        "The value of c is {} and type of c is {}\n",
        "The value of d is \"{}\" and type of d is {}\n",
        "'''.format(a,type(a),b,type(b),c,type(c),d,type(d)))"
      ],
      "execution_count": null,
      "outputs": [
        {
          "output_type": "stream",
          "text": [
            "\n",
            "The value of a is 3 and type of a is <class 'int'>\n",
            "The value of b is 5.0 and type of b is <class 'float'>\n",
            "The value of c is -6 and type of c is <class 'int'>\n",
            "The value of d is \"MegaMachine\" and type of d is <class 'str'>\n",
            "\n"
          ],
          "name": "stdout"
        }
      ]
    },
    {
      "cell_type": "markdown",
      "metadata": {
        "id": "g2dx7qi76V1z"
      },
      "source": [
        "Deleting variable ---"
      ]
    },
    {
      "cell_type": "code",
      "metadata": {
        "id": "b8tNjcr36VCW",
        "colab": {
          "base_uri": "https://localhost:8080/",
          "height": 197
        },
        "outputId": "4c251da0-2450-4038-c9c8-e4988f7434d7"
      },
      "source": [
        "# Single\n",
        "del a\n",
        "print('The value of a is',a)"
      ],
      "execution_count": null,
      "outputs": [
        {
          "output_type": "error",
          "ename": "NameError",
          "evalue": "ignored",
          "traceback": [
            "\u001b[0;31m---------------------------------------------------------------------------\u001b[0m",
            "\u001b[0;31mNameError\u001b[0m                                 Traceback (most recent call last)",
            "\u001b[0;32m<ipython-input-13-3d68c2db56ec>\u001b[0m in \u001b[0;36m<module>\u001b[0;34m()\u001b[0m\n\u001b[1;32m      1\u001b[0m \u001b[0;31m# Single\u001b[0m\u001b[0;34m\u001b[0m\u001b[0;34m\u001b[0m\u001b[0;34m\u001b[0m\u001b[0m\n\u001b[1;32m      2\u001b[0m \u001b[0;32mdel\u001b[0m \u001b[0ma\u001b[0m\u001b[0;34m\u001b[0m\u001b[0;34m\u001b[0m\u001b[0m\n\u001b[0;32m----> 3\u001b[0;31m \u001b[0mprint\u001b[0m\u001b[0;34m(\u001b[0m\u001b[0;34m'The value of a is'\u001b[0m\u001b[0;34m,\u001b[0m\u001b[0ma\u001b[0m\u001b[0;34m)\u001b[0m\u001b[0;34m\u001b[0m\u001b[0;34m\u001b[0m\u001b[0m\n\u001b[0m",
            "\u001b[0;31mNameError\u001b[0m: name 'a' is not defined"
          ]
        }
      ]
    },
    {
      "cell_type": "code",
      "metadata": {
        "id": "Pm0hrxlD6j-v"
      },
      "source": [
        "# Multiple\n",
        "del b,c,d"
      ],
      "execution_count": null,
      "outputs": []
    },
    {
      "cell_type": "markdown",
      "metadata": {
        "id": "G20hhgH5pl1j"
      },
      "source": [
        "# Python Basic: :Data Types:"
      ]
    },
    {
      "cell_type": "markdown",
      "metadata": {
        "id": "jTAIkzJLp-3n"
      },
      "source": [
        "**Playing With Numbers**: Numeric Data Type."
      ]
    },
    {
      "cell_type": "code",
      "metadata": {
        "id": "hr_DdG9KoGIM",
        "colab": {
          "base_uri": "https://localhost:8080/",
          "height": 187
        },
        "outputId": "87531c95-44a2-4e0a-cdd6-d3face227633"
      },
      "source": [
        "x = 3\n",
        "print(type(x)) # Prints \"<class 'int'>\"\n",
        "print(x) # Prints \"3\"\n",
        "print(x + 1) # Addition; prints \"4\"\n",
        "print(x - 1) # Subtraction; prints \"2\"  \n",
        "print(x * 2) # Multiplication; prints \"6\"\n",
        "print(x ** 2) # Exponentiation; prints \"9\"\n",
        "x += 1 # x = x + 1 \n",
        "#x *= 2 # x= x* 2\n",
        "print(x) # Prints \"4\"\n",
        "x *= 2\n",
        "print(x) # Prints \"8\"\n",
        "y = 2.5\n",
        "print(type(y)) # Prints \"<class 'float'>\"\n",
        "print(y, y + 1, y * 2, y ** 2) # Prints \"2.5 3.5 5.0 6.25\""
      ],
      "execution_count": null,
      "outputs": [
        {
          "output_type": "stream",
          "text": [
            "<class 'int'>\n",
            "3\n",
            "4\n",
            "2\n",
            "6\n",
            "9\n",
            "4\n",
            "8\n",
            "<class 'float'>\n",
            "2.5 3.5 5.0 6.25\n"
          ],
          "name": "stdout"
        }
      ]
    },
    {
      "cell_type": "code",
      "metadata": {
        "id": "rLV9HmvbAgrp",
        "colab": {
          "base_uri": "https://localhost:8080/",
          "height": 68
        },
        "outputId": "fc7d4c51-0a78-4e3f-c56e-0decb440892b"
      },
      "source": [
        "print(float(3),type(float(3)))\n",
        "print(int(3.9),type(int(3.9)))\n",
        "print(int(3.7567),'Vs',round(3.7567,0))"
      ],
      "execution_count": null,
      "outputs": [
        {
          "output_type": "stream",
          "text": [
            "3.0 <class 'float'>\n",
            "3 <class 'int'>\n",
            "3 Vs 4.0\n"
          ],
          "name": "stdout"
        }
      ]
    },
    {
      "cell_type": "markdown",
      "metadata": {
        "id": "vjwwkmUl65xb"
      },
      "source": [
        "**Shorthand** ----"
      ]
    },
    {
      "cell_type": "code",
      "metadata": {
        "id": "8cnsWSYu648C",
        "colab": {
          "base_uri": "https://localhost:8080/",
          "height": 85
        },
        "outputId": "f47be88c-9313-48e6-9b5d-ac7ebb713d7d"
      },
      "source": [
        "x,y = -7,9\n",
        "print('Original:',x)\n",
        "x += y # Means x = x + y\n",
        "print('After x += y:',x)\n",
        "x += 1 # Means x = x + 1 \n",
        "print('After x += 1:',x)\n",
        "x *= 2 # Means x = x * 2\n",
        "print('After x *= 2:',x)"
      ],
      "execution_count": null,
      "outputs": [
        {
          "output_type": "stream",
          "text": [
            "Original: -7\n",
            "After x += y: 2\n",
            "After x += 1: 3\n",
            "After x *= 2: 6\n"
          ],
          "name": "stdout"
        }
      ]
    },
    {
      "cell_type": "markdown",
      "metadata": {
        "id": "USE1HQL38lXW"
      },
      "source": [
        "**Floor Division**"
      ]
    },
    {
      "cell_type": "code",
      "metadata": {
        "id": "iXTVqc368viS",
        "colab": {
          "base_uri": "https://localhost:8080/",
          "height": 102
        },
        "outputId": "271de786-ba8b-4d76-9032-1af82299368b"
      },
      "source": [
        "x,y = 4,2\n",
        "print('Type of x and y is',type(x),'and',type(y))\n",
        "print('but when <class \\'int\\'> divided by <class \\'int\\'> then type of x/y is',type(x/y))\n",
        "print('thus the value of x/y',x/y,'is float.')\n",
        "print('to get result in same, i.e int class only we use floor division (i.e \"//\") so, type of x//y is',type(x//y))\n",
        "print('and thus the value of x//y',x//y,'is int.')"
      ],
      "execution_count": null,
      "outputs": [
        {
          "output_type": "stream",
          "text": [
            "Type of x and y is <class 'int'> and <class 'int'>\n",
            "but when <class 'int'> divided by <class 'int'> then type of x/y is <class 'float'>\n",
            "thus the value of x/y 2.0 is float.\n",
            "to get result in same, i.e int class only we use floor division (i.e \"//\") so, type of x//y is <class 'int'>\n",
            "and thus the value of x//y 2 is int.\n"
          ],
          "name": "stdout"
        }
      ]
    },
    {
      "cell_type": "code",
      "metadata": {
        "id": "g6MYCykU9AVa",
        "colab": {
          "base_uri": "https://localhost:8080/",
          "height": 34
        },
        "outputId": "6257f2ed-2304-4bed-df2b-cc3cfdbe2108"
      },
      "source": [
        "print('Floor Division returns int part of the value --->',5678//100)"
      ],
      "execution_count": null,
      "outputs": [
        {
          "output_type": "stream",
          "text": [
            "Floor Division returns int part of the value ---> 56\n"
          ],
          "name": "stdout"
        }
      ]
    },
    {
      "cell_type": "code",
      "metadata": {
        "id": "gc5WXuHg-WkL",
        "colab": {
          "base_uri": "https://localhost:8080/",
          "height": 85
        },
        "outputId": "93a9582a-6366-4e0f-82cc-1ea5918e8e0d"
      },
      "source": [
        "print('Ok above is ok..., but what the hell this is?')\n",
        "print(0.1 + 0.1 + 0.1 == 0.3)\n",
        "print('Why??????????????????????')\n",
        "print(0.1 + 0.1 + 0.1)"
      ],
      "execution_count": null,
      "outputs": [
        {
          "output_type": "stream",
          "text": [
            "Ok above is ok..., but what the hell this is?\n",
            "False\n",
            "Why??????????????????????\n",
            "0.30000000000000004\n"
          ],
          "name": "stdout"
        }
      ]
    },
    {
      "cell_type": "markdown",
      "metadata": {
        "id": "2paK2nK2qPGa"
      },
      "source": [
        "**Boolean Data Type**: *True or False*\n",
        "\n",
        "Python implements all of the usual operators for Boolean logic, but uses English\n",
        "words rather than symbols ( && , || , etc.):"
      ]
    },
    {
      "cell_type": "code",
      "metadata": {
        "id": "OA0nuAXgAZwm",
        "colab": {
          "base_uri": "https://localhost:8080/",
          "height": 51
        },
        "outputId": "9f3bb869-304d-407a-9006-f8ebd5b23169"
      },
      "source": [
        "print(bool(0))\n",
        "print(bool(1))"
      ],
      "execution_count": null,
      "outputs": [
        {
          "output_type": "stream",
          "text": [
            "False\n",
            "True\n"
          ],
          "name": "stdout"
        }
      ]
    },
    {
      "cell_type": "code",
      "metadata": {
        "id": "5MFe7zgNqCGv",
        "colab": {
          "base_uri": "https://localhost:8080/",
          "height": 102
        },
        "outputId": "dbb08b64-a67c-405a-8bb4-95160370fce9"
      },
      "source": [
        "t = True\n",
        "f = False\n",
        "print(type(t)) # Prints \"<class 'bool'>\"\n",
        "print(t and f) # Logical AND; prints \"False\"\n",
        "print(t or f)  # Logical OR; prints \"True\"\n",
        "print(not t)   # Logical NOT; prints \"False\"\n",
        "print(t != f)  # Logical XOR; prints \"True\""
      ],
      "execution_count": null,
      "outputs": [
        {
          "output_type": "stream",
          "text": [
            "<class 'bool'>\n",
            "False\n",
            "True\n",
            "False\n",
            "True\n"
          ],
          "name": "stdout"
        }
      ]
    },
    {
      "cell_type": "markdown",
      "metadata": {
        "id": "-oeilZAn_drF"
      },
      "source": [
        "**Comparison Operators**  ----- (Return boolean results..)"
      ]
    },
    {
      "cell_type": "code",
      "metadata": {
        "id": "44UothGH_dXa",
        "colab": {
          "base_uri": "https://localhost:8080/",
          "height": 85
        },
        "outputId": "0fee35bd-ff9d-4b72-af94-c067e937446b"
      },
      "source": [
        "print(t == f)\n",
        "print(2 > 3)\n",
        "print(2 <= 3)\n",
        "print(t != f)"
      ],
      "execution_count": null,
      "outputs": [
        {
          "output_type": "stream",
          "text": [
            "False\n",
            "False\n",
            "True\n",
            "True\n"
          ],
          "name": "stdout"
        }
      ]
    },
    {
      "cell_type": "markdown",
      "metadata": {
        "id": "lUm02cnpqeyX"
      },
      "source": [
        "**Strings**: Python has great support for strings:"
      ]
    },
    {
      "cell_type": "code",
      "metadata": {
        "id": "POnfbmdYq-Jc",
        "colab": {
          "base_uri": "https://localhost:8080/",
          "height": 85
        },
        "outputId": "faab5d86-954c-4aa9-830e-524cd006169b"
      },
      "source": [
        "hello = 'hello' # String literals can use single quotes\n",
        "world = \"world\" # or double quotes; it does not matter.\n",
        "print(hello) # Prints \"hello\"\n",
        "print(len(hello)) # String length; prints \"5\"\n",
        "hw = hello + ' ' + world # String concatenation\n",
        "print(hw) # prints \"hello world\"\n",
        "hw12 = '%s %s %d' % (hello, world, 12) # sprintf style string formatting\n",
        "print(hw12) # prints \"hello world 12\""
      ],
      "execution_count": null,
      "outputs": [
        {
          "output_type": "stream",
          "text": [
            "hello\n",
            "5\n",
            "hello world\n",
            "hello world 12\n"
          ],
          "name": "stdout"
        }
      ]
    },
    {
      "cell_type": "markdown",
      "metadata": {
        "id": "qk17TcBvrPeN"
      },
      "source": [
        "**Operations On Strings:** String objects have a bunch of useful methods; for example:"
      ]
    },
    {
      "cell_type": "code",
      "metadata": {
        "id": "oX9-rkEJrFjz",
        "colab": {
          "base_uri": "https://localhost:8080/",
          "height": 119
        },
        "outputId": "71d82c83-ff2c-4a77-98fa-6258addf2edf"
      },
      "source": [
        "s = \"hello\"\n",
        "print(s.capitalize()) # Capitalize a string; prints \"Hello\"\n",
        "print(s.upper()) # Convert a string to uppercase; prints \"HELLO\"\n",
        "print(s.rjust(7)) # Right-justify a string, padding with spaces; prints\n",
        "print(s.center(7)) # Center a string, padding with spaces; prints \" hell\n",
        "print(s.replace('l', '(ell)')) # Replace all instances of one substring wit\n",
        "# prints \"he(ell)(ell)o\"\n",
        "print(' world '.strip()) # Strip leading and trailing whitespace; prints \""
      ],
      "execution_count": null,
      "outputs": [
        {
          "output_type": "stream",
          "text": [
            "Hello\n",
            "HELLO\n",
            "  hello\n",
            " hello \n",
            "he(ell)(ell)o\n",
            "world\n"
          ],
          "name": "stdout"
        }
      ]
    },
    {
      "cell_type": "markdown",
      "metadata": {
        "id": "3MbVIKrwxktO"
      },
      "source": [
        "#Data Structures: :list, dict, tuples, sets: "
      ]
    },
    {
      "cell_type": "markdown",
      "metadata": {
        "id": "JA3wxtUUr94L"
      },
      "source": [
        "**Lists:** A list is the Python equivalent of an array, but is resizeable and can contain elements of different types:"
      ]
    },
    {
      "cell_type": "code",
      "metadata": {
        "id": "tPNHlzQqskDj",
        "colab": {
          "base_uri": "https://localhost:8080/",
          "height": 102
        },
        "outputId": "6095b615-ed71-477a-c248-92206f0782c8"
      },
      "source": [
        "xs = [3, 1, 2] # Create a list\n",
        "print(xs, xs[2]) # Prints \"[3, 1, 2] 2\"\n",
        "print(xs[-1]) # Negative indices count from the end of the list; prints\n",
        "xs[2] = 'foo' # Lists can contain elements of different types\n",
        "print(xs) # Prints \"[3, 1, 'foo']\"\n",
        "xs.append('bar') # Add a new element to the end of the list\n",
        "print(xs) # Prints \"[3, 1, 'foo', 'bar']\"\n",
        "x = xs.pop() # Remove and return the last element of the list\n",
        "print(x, xs) # Prints \"bar [3, 1, 'foo']\""
      ],
      "execution_count": null,
      "outputs": [
        {
          "output_type": "stream",
          "text": [
            "[3, 1, 2] 2\n",
            "2\n",
            "[3, 1, 'foo']\n",
            "[3, 1, 'foo', 'bar']\n",
            "bar [3, 1, 'foo']\n"
          ],
          "name": "stdout"
        }
      ]
    },
    {
      "cell_type": "markdown",
      "metadata": {
        "id": "tOuiQLgEs7Dh"
      },
      "source": [
        "**Slicing:** In addition to accessing list elements one at a time, Python provides concise syntax to access sublists; this is known as slicing:"
      ]
    },
    {
      "cell_type": "code",
      "metadata": {
        "id": "OEJ6udOis1Qe",
        "colab": {
          "base_uri": "https://localhost:8080/",
          "height": 136
        },
        "outputId": "a9714f94-81bd-4adc-b0b2-3a69d4751fef"
      },
      "source": [
        "nums = list(range(5)) # range is a built-in function that creates a list\n",
        "print(nums) # Prints \"[0, 1, 2, 3, 4]\"\n",
        "print(nums[2:4]) # Get a slice from index 2 to 4 (exclusive); print\n",
        "print(nums[2:]) # Get a slice from index 2 to the end; prints \"[2, 3, 4]\"\n",
        "print(nums[:2]) # Get a slice from the start to index 2\n",
        "print(nums[:]) # Get a slice of the whole list; prints \"[0, 1, 2, 3, 4]\"\n",
        "print(nums[:-1]) # Slice indices can be negative; prints \"[0, 1, 2, 3, 4]\"\n",
        "nums[2:4] = [7,8] # Assign a new sublist to a slice\n",
        "print(nums) # Prints \"[0, 1, 8, 9, 4]\""
      ],
      "execution_count": null,
      "outputs": [
        {
          "output_type": "stream",
          "text": [
            "[0, 1, 2, 3, 4]\n",
            "[2, 3]\n",
            "[2, 3, 4]\n",
            "[0, 1]\n",
            "[0, 1, 2, 3, 4]\n",
            "[0, 1, 2, 3]\n",
            "[0, 1, 7, 8, 4]\n"
          ],
          "name": "stdout"
        }
      ]
    },
    {
      "cell_type": "markdown",
      "metadata": {
        "id": "jiRnq_YHtdfD"
      },
      "source": [
        "**Loops:** You can loop over the elements of a list like this:"
      ]
    },
    {
      "cell_type": "code",
      "metadata": {
        "id": "a1fYB943tiV5",
        "colab": {
          "base_uri": "https://localhost:8080/",
          "height": 68
        },
        "outputId": "04fca064-07e9-40f3-8b60-175fc06c294a"
      },
      "source": [
        "animals = ['cat', 'dog', 'monkey']\n",
        "for animal in animals:\n",
        "  print(animal)\n",
        "# Prints \"cat\", \"dog\", \"monkey\", each on its own line."
      ],
      "execution_count": null,
      "outputs": [
        {
          "output_type": "stream",
          "text": [
            "cat\n",
            "dog\n",
            "monkey\n"
          ],
          "name": "stdout"
        }
      ]
    },
    {
      "cell_type": "markdown",
      "metadata": {
        "id": "u4-a4E0-trkk"
      },
      "source": [
        "**enumerate:** If you want access to the index of each element within the body of a loop, use the built-in enumerate function:"
      ]
    },
    {
      "cell_type": "code",
      "metadata": {
        "id": "8AI18bKot2N8",
        "colab": {
          "base_uri": "https://localhost:8080/",
          "height": 68
        },
        "outputId": "b1db848a-9fa8-4bc1-93a3-660de93b9eb6"
      },
      "source": [
        "animals = ['cat', 'dog', 'monkey']\n",
        "for idx, animal in enumerate(animals):\n",
        "  #print(idx, animal)\n",
        "  print('#%d: %s' % (idx + 1, animal))\n",
        "# Prints \"#1: cat\", \"#2: dog\", \"#3: monkey\", each on its own line"
      ],
      "execution_count": null,
      "outputs": [
        {
          "output_type": "stream",
          "text": [
            "#1: cat\n",
            "#2: dog\n",
            "#3: monkey\n"
          ],
          "name": "stdout"
        }
      ]
    },
    {
      "cell_type": "markdown",
      "metadata": {
        "id": "UcCe4Nvlt_hp"
      },
      "source": [
        "**List comprehensions:** When programming, frequently we want to transform one type of data into another. As a simple example, consider the following code that computes square numbers:"
      ]
    },
    {
      "cell_type": "code",
      "metadata": {
        "id": "HafJnlmSuM_9",
        "colab": {
          "base_uri": "https://localhost:8080/",
          "height": 68
        },
        "outputId": "7794ee0c-4f9f-4d12-aaf3-a3100d6a73dd"
      },
      "source": [
        "nums = [0, 1, 2, 3, 4]\n",
        "squares = []\n",
        "for x in nums:\n",
        "  squares.append(x ** 2)\n",
        "  # print(squares)\n",
        "print(squares) # Prints [0, 1, 4, 9, 16]\n",
        "\n",
        "###You can make this code simpler using a list comprehension:\n",
        "\n",
        "nums = [0, 1, 2, 3, 4]\n",
        "squares = [x ** 2 for x in nums]\n",
        "print('By list comprehension: ',squares) # Prints [0, 1, 4, 9, 16]\n",
        "\n",
        "###List comprehensions can also contain conditions:\n",
        "\n",
        "nums = [0, 1, 2, 3, 4]\n",
        "even_squares = [x ** 2 for x in nums if x % 2 == 0]\n",
        "print('list comprehension: ',even_squares) # Prints \"[0, 4, 16]\""
      ],
      "execution_count": null,
      "outputs": [
        {
          "output_type": "stream",
          "text": [
            "[0, 1, 4, 9, 16]\n",
            "By list comprehension:  [0, 1, 4, 9, 16]\n",
            "list comprehension:  [0, 4, 16]\n"
          ],
          "name": "stdout"
        }
      ]
    },
    {
      "cell_type": "markdown",
      "metadata": {
        "id": "fJVlZa5qujL-"
      },
      "source": [
        "**Dictionaries:** A dictionary stores (key, value) pairs, similar to a *Map* in Java or an object in Javascript. You can use it like this:"
      ]
    },
    {
      "cell_type": "code",
      "metadata": {
        "id": "vlBoRBAjvOgg",
        "colab": {
          "base_uri": "https://localhost:8080/",
          "height": 153
        },
        "outputId": "eb2900d0-9e6b-41ee-b75f-34b3836c56aa"
      },
      "source": [
        "d = {'cat': 'cute', 'dog': 'furry'} # Create a new dictionary with some dat\n",
        "print(d['cat']) # Get an entry from a dictionary; prints \"cute\"\n",
        "print('cat' in d) # Check if a dictionary has a given key; prints \"True\"\n",
        "d['fish'] = 'wet' # Set an entry in a dictionary\n",
        "print(d) # after new entery\n",
        "print(d['fish']) # Prints \"wet\"\n",
        "# print(d['monkey']) # KeyError: 'monkey' not a key of d\n",
        "print(d.get('monkey', 'N/A')) # Get an element with a default; prints \"N/A\"\n",
        "print(d.get('fish', 'N/A')) # Get an element with a default; prints \"wet\"\n",
        "del d['fish'] # Remove an element from a dictionary\n",
        "print(d.get('fish', 'N/A')) # \"fish\" is no longer a key; prints \"N/A\"\n",
        "print(d)"
      ],
      "execution_count": null,
      "outputs": [
        {
          "output_type": "stream",
          "text": [
            "cute\n",
            "True\n",
            "{'cat': 'cute', 'dog': 'furry', 'fish': 'wet'}\n",
            "wet\n",
            "N/A\n",
            "wet\n",
            "N/A\n",
            "{'cat': 'cute', 'dog': 'furry'}\n"
          ],
          "name": "stdout"
        }
      ]
    },
    {
      "cell_type": "markdown",
      "metadata": {
        "id": "VqxIVvY5vxDf"
      },
      "source": [
        "**Loops:** It is easy to iterate over the keys in a dictionary:"
      ]
    },
    {
      "cell_type": "code",
      "metadata": {
        "id": "tDNj1Ziavz7_",
        "colab": {
          "base_uri": "https://localhost:8080/",
          "height": 68
        },
        "outputId": "828a1988-5053-4f59-c2dd-761830d1daff"
      },
      "source": [
        "d = {'person': 2, 'cat': 4, 'spider': 8}\n",
        "for animal in d:\n",
        "  legs = d[animal]\n",
        "  print('A %s has %d legs' % (animal, legs))\n",
        "# Prints \"A person has 2 legs\", \"A cat has 4 legs\", \"A spider has 8 legs\""
      ],
      "execution_count": null,
      "outputs": [
        {
          "output_type": "stream",
          "text": [
            "A person has 2 legs\n",
            "A cat has 4 legs\n",
            "A spider has 8 legs\n"
          ],
          "name": "stdout"
        }
      ]
    },
    {
      "cell_type": "markdown",
      "metadata": {
        "id": "VD-_PMxzwAAs"
      },
      "source": [
        "*If you want access to keys and their corresponding values, use the items method:*"
      ]
    },
    {
      "cell_type": "code",
      "metadata": {
        "id": "Lxzl4AYPwUa7",
        "colab": {
          "base_uri": "https://localhost:8080/",
          "height": 68
        },
        "outputId": "318d1b11-1648-43c8-e002-03522f0588ae"
      },
      "source": [
        "d = {'person': 2, 'cat': 4, 'spider': 8}\n",
        "for animal, legs in d.items():\n",
        "  print('A %s has %d legs' % (animal, legs))\n",
        "# Prints \"A person has 2 legs\", \"A cat has 4 legs\", \"A spider has 8 legs\""
      ],
      "execution_count": null,
      "outputs": [
        {
          "output_type": "stream",
          "text": [
            "A person has 2 legs\n",
            "A cat has 4 legs\n",
            "A spider has 8 legs\n"
          ],
          "name": "stdout"
        }
      ]
    },
    {
      "cell_type": "markdown",
      "metadata": {
        "id": "DIKmSASRyOgj"
      },
      "source": [
        "**Sets:** A set is an unordered collection of distinct elements. As a simple example, consider the following: "
      ]
    },
    {
      "cell_type": "code",
      "metadata": {
        "id": "slIytL5uyVmp",
        "colab": {
          "base_uri": "https://localhost:8080/",
          "height": 119
        },
        "outputId": "a2fd25fd-134b-4bfc-c93a-48b03a884819"
      },
      "source": [
        "animals = {'cat', 'dog'}\n",
        "print('cat' in animals) # Check if an element is in a set; prints \"True\"\n",
        "print('fish' in animals) # prints \"False\"\n",
        "animals.add('fish') # Add an element to a set\n",
        "print('fish' in animals) # Prints \"True\"\n",
        "print(len(animals)) # Number of elements in a set; prints \"3\"\n",
        "animals.add('cat') # Adding an element that is already in the set doe\n",
        "print(len(animals)) # Prints \"3\"\n",
        "animals.remove('cat') # Remove an element from a set\n",
        "print(len(animals)) # Prints \"2\""
      ],
      "execution_count": null,
      "outputs": [
        {
          "output_type": "stream",
          "text": [
            "True\n",
            "False\n",
            "True\n",
            "3\n",
            "3\n",
            "2\n"
          ],
          "name": "stdout"
        }
      ]
    },
    {
      "cell_type": "markdown",
      "metadata": {
        "id": "nDw1iCBDyxnz"
      },
      "source": [
        "**tuple:** A tuple is an (immutable) ordered list of values. A tuple is in many ways similar to a list; one of the most important differences is that tuples can be used as keys in dictionaries and as elements of sets, while lists cannot. Here is a trivial example:"
      ]
    },
    {
      "cell_type": "code",
      "metadata": {
        "id": "IIzSc9dJyjUj",
        "colab": {
          "base_uri": "https://localhost:8080/",
          "height": 68
        },
        "outputId": "2d4f5554-3f95-4dbe-cde6-6e5d05d2e4aa"
      },
      "source": [
        "t = (5, 6) # Create a tuple\n",
        "print(type(t)) # Prints \"<class 'tuple'>\"\n",
        "print(t)\n",
        "print(t[0])"
      ],
      "execution_count": null,
      "outputs": [
        {
          "output_type": "stream",
          "text": [
            "<class 'tuple'>\n",
            "(5, 6)\n",
            "5\n"
          ],
          "name": "stdout"
        }
      ]
    },
    {
      "cell_type": "markdown",
      "metadata": {
        "id": "qvhdU_LIzvL4"
      },
      "source": [
        "#Functions:\n",
        "Python functions are *def* keyword. For example:"
      ]
    },
    {
      "cell_type": "code",
      "metadata": {
        "id": "auOL38rZ3-gQ",
        "colab": {
          "base_uri": "https://localhost:8080/",
          "height": 68
        },
        "outputId": "ec4561e6-0749-4019-fad0-094536295726"
      },
      "source": [
        "def sign(x):\n",
        "  if x > 0:\n",
        "    return 'positive'\n",
        "  elif x < 0:\n",
        "    return 'negative'\n",
        "  else:\n",
        "    return 'zero'\n",
        "    \n",
        "for x in [-1, 0, 1]:\n",
        "  print(sign(x))\n",
        "# Prints \"negative\", \"zero\", \"positive"
      ],
      "execution_count": null,
      "outputs": [
        {
          "output_type": "stream",
          "text": [
            "negative\n",
            "zero\n",
            "positive\n"
          ],
          "name": "stdout"
        }
      ]
    },
    {
      "cell_type": "markdown",
      "metadata": {
        "id": "g5HkFn7e4OKR"
      },
      "source": [
        "*We will often define functions to take optional keyword* **arguments**, *like this:*"
      ]
    },
    {
      "cell_type": "code",
      "metadata": {
        "id": "FcJpMG_L4tio",
        "colab": {
          "base_uri": "https://localhost:8080/",
          "height": 51
        },
        "outputId": "81eb62ce-1a16-448d-9c47-a73d8a1103da"
      },
      "source": [
        "def hello(name, loud=False):\n",
        "  if loud:\n",
        "    print('HELLO, %s!' % name.upper())\n",
        "  else:\n",
        "    print('Hello, %s' % name)\n",
        "\n",
        "hello('Bob') # Prints \"Hello, Bob\"\n",
        "hello('Fred', loud=True) # Prints \"HELLO, FRED!\""
      ],
      "execution_count": null,
      "outputs": [
        {
          "output_type": "stream",
          "text": [
            "Hello, Bob\n",
            "HELLO, FRED!\n"
          ],
          "name": "stdout"
        }
      ]
    },
    {
      "cell_type": "markdown",
      "metadata": {
        "id": "zQOy9-Vv5ILi"
      },
      "source": [
        "#Classes: \n",
        "The syntax for defining classes in Python is straightforward:"
      ]
    },
    {
      "cell_type": "code",
      "metadata": {
        "id": "Z-D-7JvB5Umi",
        "colab": {
          "base_uri": "https://localhost:8080/",
          "height": 51
        },
        "outputId": "036783a5-e50e-418d-cb34-2c03b2619f31"
      },
      "source": [
        "class Greeter(object):\n",
        "#class Greeter:\n",
        "\n",
        "  # Constructor\n",
        "  def __init__(self, name):\n",
        "    self.name = name # Create an instance variable\n",
        "    \n",
        "  # Instance method\n",
        "  def greet(self, loud=False):\n",
        "    if loud:\n",
        "      print('HELLO, %s!' % self.name.upper())\n",
        "    else:\n",
        "      print('Hello, %s' % self.name)\n",
        "\n",
        "g = Greeter('Fred') # Construct an instance of the Greeter class\n",
        "g.greet() # Call an instance method; prints \"Hello, Fred\"\n",
        "g.greet(loud=True) # Call an instance method; prints \"HELLO, FRED!\""
      ],
      "execution_count": null,
      "outputs": [
        {
          "output_type": "stream",
          "text": [
            "Hello, Fred\n",
            "HELLO, FRED!\n"
          ],
          "name": "stdout"
        }
      ]
    }
  ]
}