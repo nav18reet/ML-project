{
  "nbformat": 4,
  "nbformat_minor": 0,
  "metadata": {
    "colab": {
      "name": "Data Analytics Workshop",
      "provenance": [],
      "include_colab_link": true
    },
    "kernelspec": {
      "name": "python3",
      "display_name": "Python 3"
    },
    "language_info": {
      "name": "python"
    }
  },
  "cells": [
    {
      "cell_type": "markdown",
      "metadata": {
        "id": "view-in-github",
        "colab_type": "text"
      },
      "source": [
        "<a href=\"https://colab.research.google.com/github/nav18reet/ML-project/blob/main/Data_Analytics_Workshop.ipynb\" target=\"_parent\"><img src=\"https://colab.research.google.com/assets/colab-badge.svg\" alt=\"Open In Colab\"/></a>"
      ]
    },
    {
      "cell_type": "markdown",
      "metadata": {
        "id": "DWMVEfA0EESq"
      },
      "source": [
        "## Data Gathering"
      ]
    },
    {
      "cell_type": "code",
      "metadata": {
        "id": "JnK7nVke1627"
      },
      "source": [
        "!wget \"https://www.dropbox.com/s/ykjdfve0ogfzui2/titanic.csv\""
      ],
      "execution_count": null,
      "outputs": []
    },
    {
      "cell_type": "markdown",
      "metadata": {
        "id": "ADtTZ-CDEDBA"
      },
      "source": [
        "Now, You have the .csv file."
      ]
    },
    {
      "cell_type": "markdown",
      "metadata": {
        "id": "HkEyE9Y8ENA2"
      },
      "source": [
        "### Importing Python Libraries for Data Science"
      ]
    },
    {
      "cell_type": "code",
      "metadata": {
        "id": "apKhK0-NEClg"
      },
      "source": [
        "import numpy as np\n",
        "import pandas as pd\n",
        "import matplotlib.pyplot as plt\n",
        "import seaborn as sns"
      ],
      "execution_count": null,
      "outputs": []
    },
    {
      "cell_type": "markdown",
      "metadata": {
        "id": "wDDyvOoQEqR8"
      },
      "source": [
        "**Reading data**"
      ]
    },
    {
      "cell_type": "code",
      "metadata": {
        "id": "KCNe2cN7D2yu"
      },
      "source": [
        "titanic = pd.read_csv(\"titanic.csv\")"
      ],
      "execution_count": null,
      "outputs": []
    },
    {
      "cell_type": "markdown",
      "metadata": {
        "id": "Edmmo1LWExa0"
      },
      "source": [
        "Dataset is now loaded in a variable called titanic"
      ]
    },
    {
      "cell_type": "markdown",
      "metadata": {
        "id": "f4tauq3LFui7"
      },
      "source": [
        "**Q - How many rows and columns are there?**"
      ]
    },
    {
      "cell_type": "code",
      "metadata": {
        "id": "0un9R5kUFs4V"
      },
      "source": [
        "titanic.shape"
      ],
      "execution_count": null,
      "outputs": []
    },
    {
      "cell_type": "markdown",
      "metadata": {
        "id": "26AxdkTeGGxq"
      },
      "source": [
        "**Q - Can you tell me the column names?**"
      ]
    },
    {
      "cell_type": "code",
      "metadata": {
        "id": "pwDzhEBgGGUq"
      },
      "source": [
        "titanic.columns"
      ],
      "execution_count": null,
      "outputs": []
    },
    {
      "cell_type": "markdown",
      "metadata": {
        "id": "IPHD52IGGuGJ"
      },
      "source": [
        "**Q - Display some data.**"
      ]
    },
    {
      "cell_type": "code",
      "metadata": {
        "id": "rXxf59JZEvMd"
      },
      "source": [
        "# head() will display you the first 5 rows of the data.\n",
        "\n",
        "titanic.head()"
      ],
      "execution_count": null,
      "outputs": []
    },
    {
      "cell_type": "markdown",
      "metadata": {
        "id": "AWTgDslwG_RK"
      },
      "source": [
        "**Q - Some information**"
      ]
    },
    {
      "cell_type": "code",
      "metadata": {
        "id": "jmFnAlGLG-5s"
      },
      "source": [
        "titanic.info()"
      ],
      "execution_count": null,
      "outputs": []
    },
    {
      "cell_type": "markdown",
      "metadata": {
        "id": "rw3YmvyqHHjp"
      },
      "source": [
        "Something's wrong with Age, Cabin, Embarked columns.\n",
        "\n",
        "These columns have some Missing Data.\n",
        "\n",
        "**Handling Missing Data** is an important concept in data science.\n"
      ]
    },
    {
      "cell_type": "markdown",
      "metadata": {
        "id": "gFL0XnQiHj6Y"
      },
      "source": [
        "**Q - Tell me some satistic properties about data.**"
      ]
    },
    {
      "cell_type": "code",
      "metadata": {
        "id": "hJauLHiqFNbq"
      },
      "source": [
        "titanic.describe()"
      ],
      "execution_count": null,
      "outputs": []
    },
    {
      "cell_type": "markdown",
      "metadata": {
        "id": "2kOZu00ZITWU"
      },
      "source": [
        "What do you observe from this ?"
      ]
    },
    {
      "cell_type": "markdown",
      "metadata": {
        "id": "hTLHPtLVIuTD"
      },
      "source": [
        "**Q - Which entry from data is missing.**"
      ]
    },
    {
      "cell_type": "code",
      "metadata": {
        "id": "BvXUJS8dHt5d"
      },
      "source": [
        "titanic.isnull()"
      ],
      "execution_count": null,
      "outputs": []
    },
    {
      "cell_type": "markdown",
      "metadata": {
        "id": "edUkgU3AJDK5"
      },
      "source": [
        "Really bad way of looking at data.\n",
        "\n",
        "Can we do something better?"
      ]
    },
    {
      "cell_type": "code",
      "metadata": {
        "id": "LUjyFCQhI0FD"
      },
      "source": [
        "sns.heatmap(titanic.isnull(), yticklabels=False)"
      ],
      "execution_count": null,
      "outputs": []
    },
    {
      "cell_type": "markdown",
      "metadata": {
        "id": "uF5YOlVSJzCY"
      },
      "source": [
        "Here comes our first visualization.\n",
        "This graph is called **heatmap**. The color shows the intensity of the number.\n",
        "\n",
        "False = 0\n",
        "\n",
        "True = 1"
      ]
    },
    {
      "cell_type": "markdown",
      "metadata": {
        "id": "6vY9Sx4iKVi4"
      },
      "source": [
        "### Let's do more Data Visualisation "
      ]
    },
    {
      "cell_type": "markdown",
      "metadata": {
        "id": "JwLtgVGEKdkT"
      },
      "source": [
        "**Q - How many people survived/died in titanic?**"
      ]
    },
    {
      "cell_type": "code",
      "metadata": {
        "id": "ozNq4lqqKVVZ"
      },
      "source": [
        "sns.countplot(x=\"Survived\",data=titanic)"
      ],
      "execution_count": null,
      "outputs": []
    },
    {
      "cell_type": "markdown",
      "metadata": {
        "id": "xoqCfDXrKj7v"
      },
      "source": [
        "This is just like a **bar graph**. Counting the number of elements for survived 1 and 0"
      ]
    },
    {
      "cell_type": "markdown",
      "metadata": {
        "id": "HndluWo_K1RW"
      },
      "source": [
        "**Q - Can you tell is there any relation of people dying with their gender?**"
      ]
    },
    {
      "cell_type": "code",
      "metadata": {
        "id": "Fo_n1hw_Jbt2"
      },
      "source": [
        "sns.countplot(x=\"Survived\", data=titanic, hue=\"Sex\")"
      ],
      "execution_count": null,
      "outputs": []
    },
    {
      "cell_type": "markdown",
      "metadata": {
        "id": "5tyWuICcLJCL"
      },
      "source": [
        "**Observation :**\n",
        "\n",
        "Those who died mostly they are men.\n",
        "\n",
        "While, those who survived mostly they were female.\n"
      ]
    },
    {
      "cell_type": "markdown",
      "metadata": {
        "id": "kPJlA2sgLgdC"
      },
      "source": [
        "**Q - is there any relation of people dying with their Pclass?**"
      ]
    },
    {
      "cell_type": "code",
      "metadata": {
        "id": "eBt9qZQJK01E"
      },
      "source": [
        "sns.countplot(x=\"Survived\", data=titanic, hue=\"Pclass\")"
      ],
      "execution_count": null,
      "outputs": []
    },
    {
      "cell_type": "markdown",
      "metadata": {
        "id": "GPYTe_0PLomO"
      },
      "source": [
        "**Observation :**\n",
        "\n",
        "Those who died Mostly they were from 3rd class.\n",
        "\n",
        "But what about those who survived? \n",
        "Why the graph is equal for them?"
      ]
    },
    {
      "cell_type": "markdown",
      "metadata": {
        "id": "R9Xtl_AGMFBZ"
      },
      "source": [
        "**Q - Plot the histogram of Age column**"
      ]
    },
    {
      "cell_type": "code",
      "metadata": {
        "id": "xyhWGny3Lfvc"
      },
      "source": [
        "sns.distplot(titanic['Age'])"
      ],
      "execution_count": null,
      "outputs": []
    },
    {
      "cell_type": "markdown",
      "metadata": {
        "id": "LlJcpmLyMTK8"
      },
      "source": [
        "**Observation :**\n",
        "The age data is normally distributed.\n",
        "\n",
        "Approx Average age : 27"
      ]
    },
    {
      "cell_type": "markdown",
      "metadata": {
        "id": "3QUqXbRCMj9F"
      },
      "source": [
        "**Q - How many people don't have their siblings along with them.**"
      ]
    },
    {
      "cell_type": "code",
      "metadata": {
        "id": "5m1T0h0cMKx9"
      },
      "source": [
        "sns.countplot(titanic[\"SibSp\"])"
      ],
      "execution_count": null,
      "outputs": []
    },
    {
      "cell_type": "markdown",
      "metadata": {
        "id": "-CYZtJVpMyA3"
      },
      "source": [
        "**Observation :**\n",
        "\n",
        "There were almost 600 passangers who were travelling alone."
      ]
    },
    {
      "cell_type": "markdown",
      "metadata": {
        "id": "-Av0Ta2iNFhj"
      },
      "source": [
        "**Q - How Fare column is distributed.?**"
      ]
    },
    {
      "cell_type": "code",
      "metadata": {
        "id": "tNRIhDFTMjQG"
      },
      "source": [
        "sns.distplot(titanic['Fare'])"
      ],
      "execution_count": null,
      "outputs": []
    },
    {
      "cell_type": "markdown",
      "metadata": {
        "id": "l2Xe16KeNQVR"
      },
      "source": [
        "**Observation :**\n",
        "\n",
        "Most of the passangers bought ticket at a low price."
      ]
    },
    {
      "cell_type": "markdown",
      "metadata": {
        "id": "wW5NkawPNaj6"
      },
      "source": [
        "### Box Plot"
      ]
    },
    {
      "cell_type": "markdown",
      "metadata": {
        "id": "6nybzMOwNeaL"
      },
      "source": [
        "**Q - What is the average age of passangers Pclass wise.?**"
      ]
    },
    {
      "cell_type": "code",
      "metadata": {
        "id": "YPRLrsTJNF0g"
      },
      "source": [
        "sns.boxplot(x=\"Pclass\", y=\"Age\", data=titanic)"
      ],
      "execution_count": null,
      "outputs": []
    },
    {
      "cell_type": "markdown",
      "metadata": {
        "id": "MZu7E1EWNoe6"
      },
      "source": [
        "**Observation :**\n",
        "\n",
        "Pclass1 = 38\n",
        "\n",
        "Pclass2 = 29\n",
        "\n",
        "Pclass3 = 25"
      ]
    },
    {
      "cell_type": "markdown",
      "metadata": {
        "id": "Cw-DkENnODiY"
      },
      "source": [
        "# Handling Missing Values\n",
        "- Deleting the column\n",
        "- Deleting the entry/row\n",
        "- Fill the missing cell\n",
        "    - Mean (Numerical values)\n",
        "    - Mode (Categorial values)\n"
      ]
    },
    {
      "cell_type": "code",
      "metadata": {
        "id": "kH2H_qpSNc2-"
      },
      "source": [
        "titanic['Age'].fillna(29, inplace = True)"
      ],
      "execution_count": null,
      "outputs": []
    },
    {
      "cell_type": "code",
      "metadata": {
        "id": "OMK0ibiAOrOw"
      },
      "source": [
        "# No NAN values in Age\n",
        "\n",
        "sns.heatmap(titanic.isnull(), yticklabels=False)"
      ],
      "execution_count": null,
      "outputs": []
    },
    {
      "cell_type": "markdown",
      "metadata": {
        "id": "o8loiBiLPGii"
      },
      "source": [
        "**Let's delete the Cabin Column**"
      ]
    },
    {
      "cell_type": "code",
      "metadata": {
        "id": "19mnTLqYO_Nc"
      },
      "source": [
        "titanic.drop('Cabin', axis=1, inplace=True)"
      ],
      "execution_count": null,
      "outputs": []
    },
    {
      "cell_type": "code",
      "metadata": {
        "id": "q9vrd3sTPUQj"
      },
      "source": [
        "# No NAN values at ALL\n",
        "\n",
        "sns.heatmap(titanic.isnull(), yticklabels=False)"
      ],
      "execution_count": null,
      "outputs": []
    },
    {
      "cell_type": "code",
      "metadata": {
        "id": "5JoUExNVPLNd"
      },
      "source": [
        "titanic.head()"
      ],
      "execution_count": null,
      "outputs": []
    },
    {
      "cell_type": "code",
      "metadata": {
        "id": "wu3zGpThPPMd"
      },
      "source": [
        ""
      ],
      "execution_count": null,
      "outputs": []
    },
    {
      "cell_type": "code",
      "metadata": {
        "id": "-_e2zmlwPhLR"
      },
      "source": [
        "titanic.info()"
      ],
      "execution_count": null,
      "outputs": []
    },
    {
      "cell_type": "markdown",
      "metadata": {
        "id": "GZdnkl1OQPlO"
      },
      "source": [
        "There are still 2 rows having missing values in Embarked columne.\n",
        "\n",
        "Let's delete those rows"
      ]
    },
    {
      "cell_type": "code",
      "metadata": {
        "id": "4o_UpFqBPvPi"
      },
      "source": [
        "titanic.dropna(inplace=True)"
      ],
      "execution_count": null,
      "outputs": []
    },
    {
      "cell_type": "code",
      "metadata": {
        "id": "pn_owALOQQ96"
      },
      "source": [
        "titanic.head()"
      ],
      "execution_count": null,
      "outputs": []
    },
    {
      "cell_type": "markdown",
      "metadata": {
        "id": "sFbhVl4OQZCt"
      },
      "source": [
        "**Q - Select only the revelant columns.**"
      ]
    },
    {
      "cell_type": "code",
      "metadata": {
        "id": "G4IjS712QVo2"
      },
      "source": [
        "columns = ['Survived', 'Pclass', \"Sex\", 'Age', 'SibSp', 'Parch', 'Fare']\n",
        "\n",
        "titanic = titanic[columns]"
      ],
      "execution_count": null,
      "outputs": []
    },
    {
      "cell_type": "code",
      "metadata": {
        "id": "UxdwOzYzQqoy"
      },
      "source": [
        "titanic.head()"
      ],
      "execution_count": null,
      "outputs": []
    },
    {
      "cell_type": "markdown",
      "metadata": {
        "id": "N3KG1YhaRCPr"
      },
      "source": [
        "**Q - Changing categorical variable to numerical variable**"
      ]
    },
    {
      "cell_type": "code",
      "metadata": {
        "id": "p58CTNo6Qtty"
      },
      "source": [
        "titanic['Sex'] = titanic['Sex'].astype('category').cat.codes"
      ],
      "execution_count": null,
      "outputs": []
    },
    {
      "cell_type": "code",
      "metadata": {
        "id": "1uHw4olCQ5Rl"
      },
      "source": [
        "titanic.head()"
      ],
      "execution_count": null,
      "outputs": []
    },
    {
      "cell_type": "markdown",
      "metadata": {
        "id": "p25AvxhXRM0b"
      },
      "source": [
        "**Observation :**\n",
        "\n",
        "Male = 1\n",
        "\n",
        "Female = 0"
      ]
    },
    {
      "cell_type": "markdown",
      "metadata": {
        "id": "vRruOJ1xRj5E"
      },
      "source": [
        "**Q - Convert Data into input and output variables**"
      ]
    },
    {
      "cell_type": "code",
      "metadata": {
        "id": "2l-ka4C4RLU-"
      },
      "source": [
        "input_variables = [\"Pclass\",\t\"Sex\",\t\"Age\",\t\"SibSp\",\t\"Parch\",\t\"Fare\"]\n",
        "output_variable = \"Survived\""
      ],
      "execution_count": null,
      "outputs": []
    },
    {
      "cell_type": "code",
      "metadata": {
        "id": "GL18FzZ3RjI1"
      },
      "source": [
        "input_data = titanic[input_variables]\n",
        "output_data = titanic[output_variable]"
      ],
      "execution_count": null,
      "outputs": []
    },
    {
      "cell_type": "code",
      "metadata": {
        "id": "UNvgqWjARvwv"
      },
      "source": [
        "input_data.head()"
      ],
      "execution_count": null,
      "outputs": []
    },
    {
      "cell_type": "code",
      "metadata": {
        "id": "rra59jugRz6t"
      },
      "source": [
        "output_data.head()"
      ],
      "execution_count": null,
      "outputs": []
    },
    {
      "cell_type": "code",
      "metadata": {
        "id": "SfShoTKMR1sh"
      },
      "source": [
        ""
      ],
      "execution_count": null,
      "outputs": []
    },
    {
      "cell_type": "markdown",
      "metadata": {
        "id": "rRp8n0pQSEMA"
      },
      "source": [
        "# Machine Learning comes Here.!!!"
      ]
    },
    {
      "cell_type": "code",
      "metadata": {
        "id": "g3rfZVeUSG02"
      },
      "source": [
        ""
      ],
      "execution_count": null,
      "outputs": []
    }
  ]
}